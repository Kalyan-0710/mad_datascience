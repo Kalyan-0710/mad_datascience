{
 "cells": [
  {
   "cell_type": "markdown",
   "id": "7fbd9832-0501-4b2c-a01f-d843b741ca60",
   "metadata": {},
   "source": [
    "## Parameters\n",
    "We will first start by setting some paramaters that will be used in this notebook. Replace the one that are indicated with the needed values, and run the cell.\n",
    "\n",
    "The values you have to enter are the ones you got when you created your bucket\n",
    "\n",
    "Warning!!!: on all those variables, don't remove the starting/ending quotes when doing copy/paste\n",
    "\n"
   ]
  },
  {
   "cell_type": "code",
   "execution_count": null,
   "id": "d838093a-22ca-40dd-9e7a-1f510a4ec7f6",
   "metadata": {},
   "outputs": [],
   "source": [
    "# Enter you Access and Secret keys.\n",
    "aws_access_key_id = 'xxxxxxxxxxxxxxxxxxxxxxxxx'\n",
    "aws_secret_access_key = 'xxxxxxxxxxxxxxxxxxxxxxxxxxxxxxxx'\n",
    "\n",
    "# Enter you bucket name.\n",
    "bucket_name = 'xxxxxxxxxxxxxxxxxxxxxxxxxxxxxxxxx'\n",
    "\n",
    "# Do not change this value, this is the internal location for the MCG (Noobaa) endpoint in OpenShift Data Foundation\n",
    "endpoint_url = 'http://s3.openshift-storage.svc.cluster.local'"
   ]
  },
  {
   "cell_type": "markdown",
   "id": "69b04e11-7e7f-429b-b3f5-c5a8d452d7d2",
   "metadata": {},
   "source": [
    "## Imports\n",
    "Of course we'll need some libraries, so import them by running the cell."
   ]
  },
  {
   "cell_type": "code",
   "execution_count": null,
   "id": "b428ad81-7a7a-4731-9dfc-4377d335eff2",
   "metadata": {},
   "outputs": [],
   "source": [
    "import boto3\n",
    "import botocore"
   ]
  },
  {
   "cell_type": "markdown",
   "id": "f6e70706-bb61-4c99-81dc-24a12555ebcb",
   "metadata": {},
   "source": [
    "## S3 Client\n",
    "\n",
    "The boto3 is the standard library (from AWS) to interact with all their services. As we are using an S3-Compatible storage, we can directly use this library to interact with the it. So first, let's create the clients (you can see we are using the parameters we defined earlier)."
   ]
  },
  {
   "cell_type": "code",
   "execution_count": null,
   "id": "7dabc747-874c-4902-8b13-da9509f47b62",
   "metadata": {},
   "outputs": [],
   "source": [
    "s3 = boto3.client('s3',\n",
    "                endpoint_url = endpoint_url,\n",
    "                aws_access_key_id = aws_access_key_id,\n",
    "                aws_secret_access_key = aws_secret_access_key,\n",
    "                region_name = 'default',\n",
    "                config=botocore.client.Config(signature_version = 's3'))"
   ]
  },
  {
   "cell_type": "markdown",
   "id": "c2df1185-ad73-4a2c-a644-4f84d096f776",
   "metadata": {},
   "source": [
    "## Verify that we can connect and see our bucket"
   ]
  },
  {
   "cell_type": "code",
   "execution_count": null,
   "id": "93162e28-17a1-4d72-bef3-4b48dff63ec3",
   "metadata": {},
   "outputs": [],
   "source": [
    "for bucket in s3.list_buckets()['Buckets']:\n",
    "    print(bucket['Name'])"
   ]
  },
  {
   "cell_type": "markdown",
   "id": "de74045f-7021-455e-aa21-fec8a6afa424",
   "metadata": {},
   "source": [
    "## Upload the model to the bucket"
   ]
  },
  {
   "cell_type": "code",
   "execution_count": null,
   "id": "036a4249-effa-4a47-a468-afbdb501f45b",
   "metadata": {},
   "outputs": [],
   "source": [
    "filename = 'coolstore_model.onnx' # The file we want to upload\n",
    "object_name = 'coolstore_model.onnx' # The name of the object once uploaded (we keep the same name, and upload it at the root of the bucket)\n",
    "s3.upload_file(filename, bucket_name, object_name)"
   ]
  },
  {
   "cell_type": "markdown",
   "id": "c41ae013-2401-4571-8dea-fe9e379417e4",
   "metadata": {},
   "source": [
    "## Verify that the file is here"
   ]
  },
  {
   "cell_type": "code",
   "execution_count": null,
   "id": "eceb66a6-ac76-4a18-a3f0-1789a04a0666",
   "metadata": {
    "tags": []
   },
   "outputs": [],
   "source": [
    "response = s3.list_objects(Bucket=bucket_name)\n",
    "\n",
    "if 'Contents' in response:\n",
    "    for content in response['Contents']:\n",
    "        print(content['Key'])\n",
    "else:\n",
    "    print(\"Bucket is empty\")"
   ]
  }
 ],
 "metadata": {
  "kernelspec": {
   "display_name": "Python 3",
   "language": "python",
   "name": "python3"
  },
  "language_info": {
   "codemirror_mode": {
    "name": "ipython",
    "version": 3
   },
   "file_extension": ".py",
   "mimetype": "text/x-python",
   "name": "python",
   "nbconvert_exporter": "python",
   "pygments_lexer": "ipython3",
   "version": "3.8.13"
  }
 },
 "nbformat": 4,
 "nbformat_minor": 5
}
