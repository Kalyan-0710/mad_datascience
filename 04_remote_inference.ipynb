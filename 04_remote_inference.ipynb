{
 "cells": [
  {
   "attachments": {},
   "cell_type": "markdown",
   "id": "32e060bb-5620-4365-bb45-d7e07ac093dc",
   "metadata": {},
   "source": [
    "## First, let's import the libraries we need\n",
    "Have a look at requirements.txt to see which libraries are used. You can ignore compatibility errors if any when doing the import."
   ]
  },
  {
   "cell_type": "code",
   "execution_count": null,
   "id": "a5ac29a8-da58-4e36-a92c-6be1f4c5d32a",
   "metadata": {},
   "outputs": [],
   "source": [
    "!pip install -q -r requirements.txt"
   ]
  },
  {
   "cell_type": "markdown",
   "id": "0b6c7a78-7bec-4c81-9a53-75ea36470b60",
   "metadata": {},
   "source": [
    "## Import the external module where we have all our code doing the inference"
   ]
  },
  {
   "cell_type": "code",
   "execution_count": null,
   "id": "db9df000-a171-4652-8160-272f81e49612",
   "metadata": {},
   "outputs": [],
   "source": [
    "from yolov5_onnx_remote_infer import ort_v5\n",
    "from PIL import Image"
   ]
  },
  {
   "cell_type": "markdown",
   "id": "60552a1d-4061-4bb5-bd60-16f770515a75",
   "metadata": {},
   "source": [
    "## In the next cell, enter the inference URL you got from the Model Serving configuration"
   ]
  },
  {
   "cell_type": "code",
   "execution_count": null,
   "id": "e1b7208a-9e6f-4887-9093-8854fc3fd572",
   "metadata": {},
   "outputs": [],
   "source": [
    "infer_url = 'replace_me'\n",
    "# Example: infer_url = 'https://coolstore-guillaumes-sample-project.apps.rhods-internal.61tk.p1.openshiftapps.com/v2/models/coolstore/infer'"
   ]
  },
  {
   "cell_type": "markdown",
   "id": "3f65acbc-82a2-4a3a-bdb6-2fff1803d518",
   "metadata": {},
   "source": [
    "## Now set the parameters for the inference"
   ]
  },
  {
   "cell_type": "code",
   "execution_count": null,
   "id": "84370c09-7123-4df1-8d08-740cb86b0649",
   "metadata": {},
   "outputs": [],
   "source": [
    "# 1. The image you want to analyze\n",
    "image_path='images/montage.png' # You can replace this with an image you upload\n",
    "\n",
    "# 2. Confidence threshold, between 0 and 1 (detections with less score won't be retained)\n",
    "conf = 0.2\n",
    "\n",
    "# 3. Intersection over Union Threshold, between 0 and 1 (cleanup overlapping boxes)\n",
    "iou = 0.2"
   ]
  },
  {
   "cell_type": "markdown",
   "id": "a1339611-0e6b-49b0-ac6d-bd5c1e1fca56",
   "metadata": {},
   "source": [
    "## Launch the inference and show the result"
   ]
  },
  {
   "cell_type": "code",
   "execution_count": null,
   "id": "4d232504-f324-41fa-950d-2f96a5883478",
   "metadata": {},
   "outputs": [],
   "source": [
    "infer=ort_v5(image_path, infer_url, conf, iou, 640, './classes.txt')\n",
    "infer()\n",
    "im = Image.open('result.jpg')\n",
    "im.show()"
   ]
  },
  {
   "attachments": {},
   "cell_type": "markdown",
   "id": "9923faec",
   "metadata": {},
   "source": [
    "## Perfect, we can see that the model serving API is working!\n",
    "\n",
    "You can now get back to the instructions."
   ]
  }
 ],
 "metadata": {
  "kernelspec": {
   "display_name": "Python 3",
   "language": "python",
   "name": "python3"
  },
  "language_info": {
   "codemirror_mode": {
    "name": "ipython",
    "version": 3
   },
   "file_extension": ".py",
   "mimetype": "text/x-python",
   "name": "python",
   "nbconvert_exporter": "python",
   "pygments_lexer": "ipython3",
   "version": "3.8.13"
  }
 },
 "nbformat": 4,
 "nbformat_minor": 5
}
