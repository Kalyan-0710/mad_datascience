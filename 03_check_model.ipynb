{
 "cells": [
  {
   "attachments": {},
   "cell_type": "markdown",
   "id": "7fbd9832-0501-4b2c-a01f-d843b741ca60",
   "metadata": {},
   "source": [
    "## Parameters\n",
    "We will first start by setting some parameters that will be used in this notebook. Replace the ones that are indicated with the needed values, and run the cell.\n",
    "\n",
    "The values you have to enter are the ones from the instructions.\n",
    "\n",
    "Warning!!!: on all those variables, don't remove the starting/ending quotes when doing copy/paste\n",
    "\n"
   ]
  },
  {
   "cell_type": "code",
   "execution_count": null,
   "id": "d838093a-22ca-40dd-9e7a-1f510a4ec7f6",
   "metadata": {},
   "outputs": [],
   "source": [
    "# Enter you the Access and Secret keys you got in the instructions.\n",
    "aws_access_key_id = 'xxxxxxxxxxxxxxxxxxxxxxxxxx'\n",
    "aws_secret_access_key = 'xxxxxxxxxxxxxxxxxxxxxxxxxxxxxx'\n",
    "\n",
    "# The bucket name is already entered.\n",
    "bucket_name = 'rh-mad-workshop-m6'"
   ]
  },
  {
   "attachments": {},
   "cell_type": "markdown",
   "id": "69b04e11-7e7f-429b-b3f5-c5a8d452d7d2",
   "metadata": {},
   "source": [
    "## Imports\n",
    "Of course we will use some libraries to access the storage, so import them by running the cell.\n",
    "Boto3 is the standard library (from AWS) to interact with all their services. As we are using an S3-Compatible storage, we can directly use this library to interact with the it."
   ]
  },
  {
   "cell_type": "code",
   "execution_count": null,
   "id": "b428ad81-7a7a-4731-9dfc-4377d335eff2",
   "metadata": {},
   "outputs": [],
   "source": [
    "import boto3\n",
    "import botocore"
   ]
  },
  {
   "attachments": {},
   "cell_type": "markdown",
   "id": "f6e70706-bb61-4c99-81dc-24a12555ebcb",
   "metadata": {},
   "source": [
    "## S3 Client\n",
    "\n",
    "Now, let's create the client (you can see we are using the parameters we defined earlier)."
   ]
  },
  {
   "cell_type": "code",
   "execution_count": null,
   "id": "7dabc747-874c-4902-8b13-da9509f47b62",
   "metadata": {},
   "outputs": [],
   "source": [
    "s3 = boto3.client('s3',\n",
    "                aws_access_key_id = aws_access_key_id,\n",
    "                aws_secret_access_key = aws_secret_access_key,\n",
    "                region_name = 'us-east-1')"
   ]
  },
  {
   "cell_type": "markdown",
   "id": "c2df1185-ad73-4a2c-a644-4f84d096f776",
   "metadata": {},
   "source": [
    "## Verify that we can connect and see our bucket"
   ]
  },
  {
   "cell_type": "code",
   "execution_count": null,
   "id": "93162e28-17a1-4d72-bef3-4b48dff63ec3",
   "metadata": {},
   "outputs": [],
   "source": [
    "print(s3.head_bucket(Bucket=bucket_name))"
   ]
  },
  {
   "attachments": {},
   "cell_type": "markdown",
   "id": "c41ae013-2401-4571-8dea-fe9e379417e4",
   "metadata": {},
   "source": [
    "## Verify the location of the model inside the bucket"
   ]
  },
  {
   "cell_type": "code",
   "execution_count": null,
   "id": "eceb66a6-ac76-4a18-a3f0-1789a04a0666",
   "metadata": {
    "tags": []
   },
   "outputs": [],
   "source": [
    "response = s3.list_objects(Bucket=bucket_name)\n",
    "\n",
    "if 'Contents' in response:\n",
    "    for content in response['Contents']:\n",
    "        print(content['Key'])\n",
    "else:\n",
    "    print(\"Bucket is empty\")"
   ]
  },
  {
   "cell_type": "markdown",
   "id": "d5d6cfda-b31b-4dc6-b10b-8804b461a655",
   "metadata": {},
   "source": [
    "## Perfect, we can see that the file is located inside the coolstore-model folder!\n",
    "\n",
    "You can now get back to the instructions."
   ]
  }
 ],
 "metadata": {
  "kernelspec": {
   "display_name": "Python 3.9.16",
   "language": "python",
   "name": "python3"
  },
  "language_info": {
   "codemirror_mode": {
    "name": "ipython",
    "version": 3
   },
   "file_extension": ".py",
   "mimetype": "text/x-python",
   "name": "python",
   "nbconvert_exporter": "python",
   "pygments_lexer": "ipython3",
   "version": "3.9.16"
  }
 },
 "nbformat": 4,
 "nbformat_minor": 5
}
